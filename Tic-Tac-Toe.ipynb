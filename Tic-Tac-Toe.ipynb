{
 "cells": [
  {
   "cell_type": "code",
   "execution_count": null,
   "metadata": {},
   "outputs": [],
   "source": [
    "import numpy as np \n",
    "import pandas as pd\n",
    "import random as random \n",
    "# define the board \n",
    "\n",
    "state= np.array([0,0,0,0,0,0,0,0,0])\n",
    "\n",
    "# make a move \n",
    "\n",
    "def valid_move(cell):\n",
    "    if state[cell]== 0:\n",
    "        return True\n",
    "    return False \n",
    "\n",
    "def move (cell, symbol):\n",
    "    if valid_move(cell):\n",
    "        state[cell]= symbol\n",
    "        return True \n",
    "    return False\n",
    "\n",
    "# win condition             \n",
    "def check_win(symbol):\n",
    "    rows= [state[0:3],state[3:6],state[6:9]]   \n",
    "    columns= state[[0,3,6]], state[[1,4,7]], state[[2,5,8]]\n",
    "    diagonals= state[[0, 4, 8]],state[[2,4,6]]   \n",
    "    combs = [rows, columns, diagonals]\n",
    "    \n",
    "    for comb in combs: \n",
    "        for element in comb:\n",
    "            if len(np.unique(element))== 1 and symbol in element:\n",
    "                return True\n",
    "                break\n",
    "\n",
    "            \n",
    "\n",
    "def is_full(x): \n",
    "    if 0 in x:\n",
    "        return False\n",
    "    return True\n",
    "\n",
    "def sign_to_printable(sign):\n",
    "        if sign == 0:\n",
    "            return \" \"\n",
    "        elif sign == 1:\n",
    "            return \"X\"\n",
    "        else:\n",
    "            return \"O\"\n",
    "\n",
    "def print_board(x):\n",
    "        print(\" \" + sign_to_printable(x[0]) + \" | \" + sign_to_printable(x[1]) + \" | \" + sign_to_printable(x[2]) + \" \\n\" +\n",
    "              \" \" + sign_to_printable(x[3]) + \" | \" + sign_to_printable(x[4]) + \" | \" + sign_to_printable(x[5]) + \" \\n\" +\n",
    "              \" \" + sign_to_printable(x[6]) + \" | \" + sign_to_printable(x[7]) + \" | \" + sign_to_printable(x[8]) + \" \\n\")\n",
    "\n",
    "player_a= 1 \n",
    "player_b= -1 \n",
    "\n",
    "active_player= player_a\n",
    "\n",
    "tie= 0\n",
    "hold= np.array([1,2,3,4,5,6,7,8,9])\n",
    "while not is_full(state):\n",
    "    tie+=1 \n",
    "    print_board(state)\n",
    "    if active_player == player_a:\n",
    "        try:\n",
    "            cell = int(input(\"Where do you want to place your sign? [1-9]\"))\n",
    "        except ValueError:\n",
    "            continue \n",
    "    else: \n",
    " \n",
    "        cell = random.choice(hold)\n",
    "    hold= hold[hold!= cell]\n",
    "\n",
    "    cell = cell - 1\n",
    "    if cell < 0 or cell > 8:\n",
    "        print(\"Please enter a number between 1 and 9\")\n",
    "        continue\n",
    "    if not move(cell, active_player):\n",
    "        print(\"Invalid Move\")\n",
    "        continue\n",
    "    if check_win(active_player):\n",
    "        print('You won')\n",
    "        break \n",
    "    if active_player == player_a:\n",
    "        active_player = player_b\n",
    "    else:\n",
    "        active_player = player_a\n",
    "        \n",
    "if is_full(state) and check_win(active_player)== False:\n",
    "        print(\"It's a tie.\")"
   ]
  },
  {
   "cell_type": "code",
   "execution_count": 101,
   "metadata": {},
   "outputs": [
    {
     "data": {
      "text/plain": [
       "2"
      ]
     },
     "execution_count": 101,
     "metadata": {},
     "output_type": "execute_result"
    }
   ],
   "source": [
    "states= pd.Series([1,2,3,])\n"
   ]
  }
 ],
 "metadata": {
  "kernelspec": {
   "display_name": "Python 3",
   "language": "python",
   "name": "python3"
  },
  "language_info": {
   "codemirror_mode": {
    "name": "ipython",
    "version": 3
   },
   "file_extension": ".py",
   "mimetype": "text/x-python",
   "name": "python",
   "nbconvert_exporter": "python",
   "pygments_lexer": "ipython3",
   "version": "3.8.5"
  }
 },
 "nbformat": 4,
 "nbformat_minor": 4
}
